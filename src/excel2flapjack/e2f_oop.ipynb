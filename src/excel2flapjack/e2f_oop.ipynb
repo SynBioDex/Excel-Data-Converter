{
 "cells": [
  {
   "cell_type": "code",
   "execution_count": 1,
   "metadata": {},
   "outputs": [],
   "source": [
    "import os\n",
    "import pandas as pd\n",
    "from flapjack import Flapjack\n",
    "import mainNew"
   ]
  },
  {
   "cell_type": "code",
   "execution_count": 2,
   "metadata": {},
   "outputs": [],
   "source": [
    "import importlib\n",
    "importlib.reload(mainNew)\n",
    "from mainNew import XDC"
   ]
  },
  {
   "cell_type": "code",
   "execution_count": 3,
   "metadata": {},
   "outputs": [],
   "source": [
    "fj_url = \"localhost:8000\" #local\n",
    "# fj_url = \"flapjack.rudge-lab.org:8000\" #Web Instance Rudge Lab\n",
    "#fj_url = \"198.59.83.73:8000\" #Web Instance Genetic Logic Lab\n",
    "fj_user = \"dylan33smith\"\n",
    "fj_pass = \"coco33\"\n",
    "\n",
    "# updated xcel file is in test/test_files\n",
    "test_file_path = '../../tests/test_files'\n",
    "# real file path ------\n",
    "# excel_path = os.path.join(test_file_path, \"flapjack_excel_converter_revamp.xlsx\")\n",
    "# testing file path ------\n",
    "excel_path = os.path.join(test_file_path, \"xdc_test.xlsx\")"
   ]
  },
  {
   "cell_type": "code",
   "execution_count": 4,
   "metadata": {},
   "outputs": [
    {
     "name": "stdout",
     "output_type": "stream",
     "text": [
      "../../tests/test_files\\xdc_test.xlsx\n"
     ]
    }
   ],
   "source": [
    "print(excel_path)"
   ]
  },
  {
   "cell_type": "code",
   "execution_count": 5,
   "metadata": {},
   "outputs": [],
   "source": [
    "# block to test output of fj login for testing assertions\n",
    "# fj = Flapjack(url_base=fj_url) #Local Instance\n",
    "# fj.log_in(username=fj_user, password=fj_pass)\n"
   ]
  },
  {
   "cell_type": "code",
   "execution_count": 6,
   "metadata": {},
   "outputs": [],
   "source": [
    "xls = pd.ExcelFile(excel_path)"
   ]
  },
  {
   "cell_type": "code",
   "execution_count": 7,
   "metadata": {},
   "outputs": [],
   "source": [
    "test_case = XDC(xls, fj_url, fj_user, fj_pass)\n",
    "test_case.create_df()\n"
   ]
  },
  {
   "cell_type": "code",
   "execution_count": null,
   "metadata": {},
   "outputs": [],
   "source": [
    "# XDC function to \n",
    "# test_case.print_info(fj_sht = True, df=True, hash_map=True)"
   ]
  },
  {
   "cell_type": "code",
   "execution_count": null,
   "metadata": {},
   "outputs": [],
   "source": [
    "test_case.upload_studies()\n",
    "test_case.upload_signals()\n",
    "test_case.upload_chemicals()\n",
    "test_case.upload_dna()\n",
    "test_case.upload_medias()\n",
    "test_case.upload_strains()\n",
    "test_case.upload_supplements()\n",
    "test_case.upload_vectors()\n",
    "test_case.upload_assays()\n",
    "test_case.upload_samples()"
   ]
  },
  {
   "cell_type": "code",
   "execution_count": 12,
   "metadata": {},
   "outputs": [
    {
     "name": "stdout",
     "output_type": "stream",
     "text": [
      "Returning exististing model, sample\n",
      "Returning exististing model, sample\n",
      "{'TestStudy': 3, 'TestSignalB': 4, 'TestSignalA': 5, 'TestChemical1': 3, 'TestChemical2': 4, 'TestDNA1': 4, 'TestDNA2': 5, 'TestDNA3': 6, 'TestGlucose': 2, 'TestEcoli': 2, 'TestSupplement1': 3, 'TestSupplement2': 4, 'Test_Rep_HIGH_degrate_plasmid': 3, 'Test_Rep_LOW_degrate_plasmid': 4, 'TestAssay1': 5, 'TestAssay2': 6, 'TestSample1': 5, 'TestSample2': 6, 'TestSample3': 5, 'TestSample4': 6}\n"
     ]
    }
   ],
   "source": [
    "\n",
    "test_case.print_info(hash_map=True)"
   ]
  },
  {
   "cell_type": "code",
   "execution_count": null,
   "metadata": {},
   "outputs": [],
   "source": []
  }
 ],
 "metadata": {
  "kernelspec": {
   "display_name": "XDC",
   "language": "python",
   "name": "python3"
  },
  "language_info": {
   "codemirror_mode": {
    "name": "ipython",
    "version": 3
   },
   "file_extension": ".py",
   "mimetype": "text/x-python",
   "name": "python",
   "nbconvert_exporter": "python",
   "pygments_lexer": "ipython3",
   "version": "3.9.18"
  }
 },
 "nbformat": 4,
 "nbformat_minor": 2
}
