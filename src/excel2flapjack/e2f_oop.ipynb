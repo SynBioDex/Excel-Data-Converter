{
 "cells": [
  {
   "cell_type": "code",
   "execution_count": 1,
   "metadata": {},
   "outputs": [],
   "source": [
    "import os\n",
    "import pandas as pd\n",
    "from flapjack import Flapjack\n",
    "from main_new import inputData"
   ]
  },
  {
   "cell_type": "code",
   "execution_count": 2,
   "metadata": {},
   "outputs": [],
   "source": [
    "fj_url = \"localhost:8000\" #local\n",
    "# fj_url = \"flapjack.rudge-lab.org:8000\" #Web Instance Rudge Lab\n",
    "#fj_url = \"198.59.83.73:8000\" #Web Instance Genetic Logic Lab\n",
    "fj_user = \"dylan33smith\"\n",
    "fj_pass = \"coco33\"\n",
    "\n",
    "# updated xcel file is in test/test_files\n",
    "test_file_path = '../../tests/test_files'\n",
    "excel_path = os.path.join(test_file_path, \"flapjack_excel_converter_revamp.xlsx\")"
   ]
  },
  {
   "cell_type": "code",
   "execution_count": 3,
   "metadata": {},
   "outputs": [],
   "source": [
    "xls = pd.ExcelFile(excel_path)"
   ]
  },
  {
   "cell_type": "code",
   "execution_count": 5,
   "metadata": {},
   "outputs": [],
   "source": [
    "test_case = inputData(xls, fj_url, fj_user, fj_pass)"
   ]
  },
  {
   "cell_type": "code",
   "execution_count": 6,
   "metadata": {},
   "outputs": [],
   "source": [
    "test_case.create_df()"
   ]
  },
  {
   "cell_type": "code",
   "execution_count": 10,
   "metadata": {},
   "outputs": [
    {
     "name": "stdout",
     "output_type": "stream",
     "text": [
      "                            name description   pubchemid         object  \\\n",
      "Chemical1                    ATC     Inducer  54710409.0       Chemical   \n",
      "Chemical2                   IPTG     Inducer    656894.0       Chemical   \n",
      "DNA1            Rep_HIGH_degrate         NaN         NaN            DNA   \n",
      "DNA2             Rep_LOW_degrate         NaN         NaN            DNA   \n",
      "DNA3                    Reporter         NaN         NaN            DNA   \n",
      "...                          ...         ...         ...            ...   \n",
      "Measurement217               NaN         NaN         NaN    Measurement   \n",
      "Measurement218               NaN         NaN         NaN    Measurement   \n",
      "Measurement219               NaN         NaN         NaN    Measurement   \n",
      "SampleDesign1                NaN         NaN         NaN  Sample Design   \n",
      "SampleDesign2                NaN         NaN         NaN  Sample Design   \n",
      "\n",
      "               flapjackid chemical  concentration  dna color  DOI  ... assay  \\\n",
      "Chemical1                      NaN            NaN  NaN   NaN  NaN  ...   NaN   \n",
      "Chemical2                      NaN            NaN  NaN   NaN  NaN  ...   NaN   \n",
      "DNA1                           NaN            NaN  NaN   NaN  NaN  ...   NaN   \n",
      "DNA2                           NaN            NaN  NaN   NaN  NaN  ...   NaN   \n",
      "DNA3                           NaN            NaN  NaN   NaN  NaN  ...   NaN   \n",
      "...                   ...      ...            ...  ...   ...  ...  ...   ...   \n",
      "Measurement217                 NaN            NaN  NaN   NaN  NaN  ...   NaN   \n",
      "Measurement218                 NaN            NaN  NaN   NaN  NaN  ...   NaN   \n",
      "Measurement219                 NaN            NaN  NaN   NaN  NaN  ...   NaN   \n",
      "SampleDesign1                  NaN            NaN  NaN   NaN  NaN  ...   NaN   \n",
      "SampleDesign2                  NaN            NaN  NaN   NaN  NaN  ...   NaN   \n",
      "\n",
      "                sampledesign   sample   signal  time     value      media  \\\n",
      "Chemical1                NaN      NaN      NaN   NaN       NaN        NaN   \n",
      "Chemical2                NaN      NaN      NaN   NaN       NaN        NaN   \n",
      "DNA1                     NaN      NaN      NaN   NaN       NaN        NaN   \n",
      "DNA2                     NaN      NaN      NaN   NaN       NaN        NaN   \n",
      "DNA3                     NaN      NaN      NaN   NaN       NaN        NaN   \n",
      "...                      ...      ...      ...   ...       ...        ...   \n",
      "Measurement217           NaN  Sample2  Signal1  2.00  0.026213        NaN   \n",
      "Measurement218           NaN  Sample2  Signal9  2.25  3.073661        NaN   \n",
      "Measurement219           NaN  Sample2  Signal1  2.25  0.035800        NaN   \n",
      "SampleDesign1            NaN      NaN      NaN   NaN       NaN  M9Glucose   \n",
      "SampleDesign2            NaN      NaN      NaN   NaN       NaN  M9Glucose   \n",
      "\n",
      "                 strain vector   supplement  \n",
      "Chemical1           NaN    NaN          NaN  \n",
      "Chemical2           NaN    NaN          NaN  \n",
      "DNA1                NaN    NaN          NaN  \n",
      "DNA2                NaN    NaN          NaN  \n",
      "DNA3                NaN    NaN          NaN  \n",
      "...                 ...    ...          ...  \n",
      "Measurement217      NaN    NaN          NaN  \n",
      "Measurement218      NaN    NaN          NaN  \n",
      "Measurement219      NaN    NaN          NaN  \n",
      "SampleDesign1   EcoliT7  Rep_1  Supplement1  \n",
      "SampleDesign2   EcoliT7  Rep_2  Supplement2  \n",
      "\n",
      "[62 rows x 25 columns]\n"
     ]
    }
   ],
   "source": [
    "print(test_case.xdc_data)"
   ]
  },
  {
   "cell_type": "code",
   "execution_count": 11,
   "metadata": {},
   "outputs": [
    {
     "name": "stdout",
     "output_type": "stream",
     "text": [
      "<class 'pandas.core.frame.DataFrame'>\n",
      "Index: 62 entries, Chemical1 to SampleDesign2\n",
      "Data columns (total 25 columns):\n",
      " #   Column         Non-Null Count  Dtype  \n",
      "---  ------         --------------  -----  \n",
      " 0   name           16 non-null     object \n",
      " 1   description    9 non-null      object \n",
      " 2   pubchemid      2 non-null      float64\n",
      " 3   object         62 non-null     object \n",
      " 4   flapjackid     62 non-null     object \n",
      " 5   chemical       2 non-null      object \n",
      " 6   concentration  2 non-null      float64\n",
      " 7   dna            2 non-null      object \n",
      " 8   color          2 non-null      object \n",
      " 9   DOI            1 non-null      object \n",
      " 10  machine        2 non-null      object \n",
      " 11  temperature    2 non-null      float64\n",
      " 12  study          2 non-null      object \n",
      " 13  row            4 non-null      float64\n",
      " 14  col            4 non-null      float64\n",
      " 15  assay          4 non-null      object \n",
      " 16  sampledesign   4 non-null      object \n",
      " 17  sample         40 non-null     object \n",
      " 18  signal         40 non-null     object \n",
      " 19  time           40 non-null     float64\n",
      " 20  value          40 non-null     float64\n",
      " 21  media          2 non-null      object \n",
      " 22  strain         2 non-null      object \n",
      " 23  vector         2 non-null      object \n",
      " 24  supplement     2 non-null      object \n",
      "dtypes: float64(7), object(18)\n",
      "memory usage: 12.6+ KB\n"
     ]
    }
   ],
   "source": [
    "test_case.xdc_data.info()"
   ]
  },
  {
   "cell_type": "code",
   "execution_count": null,
   "metadata": {},
   "outputs": [],
   "source": []
  }
 ],
 "metadata": {
  "kernelspec": {
   "display_name": "XDC",
   "language": "python",
   "name": "python3"
  },
  "language_info": {
   "codemirror_mode": {
    "name": "ipython",
    "version": 3
   },
   "file_extension": ".py",
   "mimetype": "text/x-python",
   "name": "python",
   "nbconvert_exporter": "python",
   "pygments_lexer": "ipython3",
   "version": "0.0.0"
  }
 },
 "nbformat": 4,
 "nbformat_minor": 2
}
